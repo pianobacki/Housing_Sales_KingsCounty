{
 "cells": [
  {
   "cell_type": "markdown",
   "id": "8bc63d30-f59c-471a-8372-0f70893156bb",
   "metadata": {},
   "source": [
    "# Correlation Coefficients\n",
    "<hr style=\"border:2px solid black\">"
   ]
  },
  {
   "cell_type": "markdown",
   "id": "86a2e7ef-ac1c-4dfb-be07-15dfd38238bf",
   "metadata": {},
   "source": [
    "**load packages**"
   ]
  },
  {
   "cell_type": "code",
   "execution_count": null,
   "id": "074edc30-e5ed-4978-a1eb-e557d19558e7",
   "metadata": {},
   "outputs": [],
   "source": [
    "# data analysis stack\n",
    "import numpy as np\n",
    "import pandas as pd\n",
    "\n",
    "# data visualization stack\n",
    "import matplotlib.pyplot as plt\n",
    "%matplotlib inline\n",
    "import seaborn as sns\n",
    "sns.set_style('whitegrid')\n",
    "\n",
    "# statistics stack\n",
    "from scipy import stats\n",
    "\n",
    "# machine learning stack\n",
    "from sklearn.preprocessing import LabelEncoder\n",
    "from sklearn.metrics import silhouette_score\n",
    "\n",
    "# miscellaneous\n",
    "import warnings\n",
    "warnings.simplefilter('ignore')"
   ]
  },
  {
   "cell_type": "markdown",
   "id": "ffacbec8-2471-4e53-8872-c89e148cb77d",
   "metadata": {},
   "source": [
    "**load data**"
   ]
  },
  {
   "cell_type": "code",
   "execution_count": null,
   "id": "19479a62-8651-4a4b-a12d-7bc13e93d47f",
   "metadata": {
    "tags": []
   },
   "outputs": [],
   "source": [
    "df = sns.load_dataset('penguins')\n",
    "df.dropna(inplace=True, ignore_index=True)"
   ]
  },
  {
   "cell_type": "code",
   "execution_count": null,
   "id": "b408759a-3f56-4e89-9210-6e590d339dd3",
   "metadata": {
    "tags": []
   },
   "outputs": [],
   "source": [
    "df.head()"
   ]
  },
  {
   "cell_type": "markdown",
   "id": "ef9cc78f-fa52-4dea-9358-10a5cd35a3d2",
   "metadata": {},
   "source": [
    "**feature variables**"
   ]
  },
  {
   "cell_type": "code",
   "execution_count": null,
   "id": "b3ab71c4-a093-40dd-92ab-d55a876649e0",
   "metadata": {},
   "outputs": [],
   "source": [
    "numerical_features = [\n",
    "    'bill_length_mm',\n",
    "    'bill_depth_mm',\n",
    "    'flipper_length_mm',\n",
    "    'body_mass_g'\n",
    "]\n",
    "\n",
    "categorical_features = [\n",
    "    'species',\n",
    "    'island',\n",
    "    'sex'\n",
    "]"
   ]
  },
  {
   "cell_type": "markdown",
   "id": "cf9ba9f3-ed43-4550-9dcd-ceb0689d07a4",
   "metadata": {},
   "source": [
    "## correlation among numerical features"
   ]
  },
  {
   "cell_type": "code",
   "execution_count": null,
   "id": "c282cf01-8c11-41a2-8125-79d7d492c806",
   "metadata": {},
   "outputs": [],
   "source": [
    "plt.figure(figsize=(4,4),dpi=100)\n",
    "sns.heatmap(\n",
    "    data=df[numerical_features].corr(),\n",
    "    cmap='coolwarm',\n",
    "    linecolor='white',\n",
    "    linewidth=1,\n",
    "    annot=True,\n",
    "    vmin=-1,\n",
    "    vmax=1\n",
    ");"
   ]
  },
  {
   "cell_type": "markdown",
   "id": "3be94c34-aadc-4e7f-a42e-af73d1b030f9",
   "metadata": {},
   "source": [
    "**scatter plot example**"
   ]
  },
  {
   "cell_type": "code",
   "execution_count": null,
   "id": "52e504dc-c456-4f5d-a726-7ec84579af1b",
   "metadata": {
    "tags": []
   },
   "outputs": [],
   "source": [
    "sns.scatterplot(\n",
    "        x=df.flipper_length_mm,\n",
    "        y=df.body_mass_g,\n",
    "    );"
   ]
  },
  {
   "cell_type": "markdown",
   "id": "161cac86-05fe-47f2-b623-0af9b67a582c",
   "metadata": {},
   "source": [
    "## correlation among categorical features"
   ]
  },
  {
   "cell_type": "code",
   "execution_count": null,
   "id": "b8d4b083-fb7c-4b6d-b8b1-0b5acfb92966",
   "metadata": {},
   "outputs": [],
   "source": [
    "def cat_cat_correlation(df_,cat_col1,cat_col2):\n",
    "    \"\"\"\n",
    "    This function spits out Cramer's correlation statistic, with Bergsma-Wicher \n",
    "    correction, between two categorical columns of a dataframe \n",
    "    \"\"\"\n",
    "    crosstab = pd.crosstab(df_[cat_col1], df_[cat_col2])\n",
    "    chi_sqr = stats.chi2_contingency(crosstab)[0]\n",
    "    n = crosstab.sum().sum()\n",
    "    r,k = crosstab.shape\n",
    "    phi_sqr_corr = max(0, chi_sqr/n - ((k-1)*(r-1))/(n-1))    \n",
    "    r_corr = r - ((r-1)**2)/(n-1)\n",
    "    k_corr = k - ((k-1)**2)/(n-1)\n",
    "    \n",
    "    result = np.sqrt(phi_sqr_corr / min( (k_corr-1), (r_corr-1)))\n",
    "    return round(result,3)"
   ]
  },
  {
   "cell_type": "code",
   "execution_count": null,
   "id": "701308e0-5630-4a05-ad80-2b9c2e15ae44",
   "metadata": {
    "tags": []
   },
   "outputs": [],
   "source": [
    "cramer_v_corr = dict(\n",
    "    zip(\n",
    "        categorical_features,\n",
    "        [[cat_cat_correlation(df,f1,f2) for f2 in categorical_features] for f1 in categorical_features]\n",
    "    )\n",
    ")\n",
    "\n",
    "plt.figure(figsize=(4,4),dpi=100)\n",
    "sns.heatmap(data=pd.DataFrame(data=cramer_v_corr,index=categorical_features),\n",
    "            cmap='magma',\n",
    "            linecolor='white',\n",
    "            linewidth=1,\n",
    "            annot=True,\n",
    "            vmin=0,\n",
    "            vmax=1\n",
    "           );"
   ]
  },
  {
   "cell_type": "markdown",
   "id": "2f85fd1b-60c8-4d40-8c7b-458f852754fc",
   "metadata": {},
   "source": [
    "**bar plot example**"
   ]
  },
  {
   "cell_type": "code",
   "execution_count": null,
   "id": "90999ef3-80e8-4150-8e44-4cc9e0d20796",
   "metadata": {
    "tags": []
   },
   "outputs": [],
   "source": [
    "sns.countplot(data=df, x='island', hue='species', fill= True);"
   ]
  },
  {
   "cell_type": "markdown",
   "id": "11c9594b-564a-4e81-b110-5c7aac136e6e",
   "metadata": {
    "jupyter": {
     "source_hidden": true
    },
    "tags": []
   },
   "source": [
    "## correlation between categorical and numerical features"
   ]
  },
  {
   "cell_type": "code",
   "execution_count": null,
   "id": "a73a3b24-7f20-41dd-8314-f67148cd14c3",
   "metadata": {},
   "outputs": [],
   "source": [
    "def cat_num_correlation(df_,cat_col,num_col):\n",
    "    \"\"\"\n",
    "    This function spits out a sensible correlation coefficient\n",
    "    between a categorical column and a numerical column of a dataframe.\n",
    "    The correlation is essentially the silhouette score of the numerical\n",
    "    data points with the catagorical variable values serving as cluster labels\n",
    "    \"\"\"\n",
    "    data_points = df_[num_col].values.reshape(-1,1)\n",
    "    labels = LabelEncoder().fit_transform(df_[cat_col])\n",
    "    score = silhouette_score(data_points,labels)\n",
    "    score = score * np.heaviside(score,0)\n",
    "    score = round(score,3)\n",
    "    return score"
   ]
  },
  {
   "cell_type": "code",
   "execution_count": null,
   "id": "03c3faf2-018f-432b-961f-aa378baa662b",
   "metadata": {
    "tags": []
   },
   "outputs": [],
   "source": [
    "cat_num_corr_values = dict(\n",
    "    zip(\n",
    "        numerical_features,\n",
    "        [[cat_num_correlation(df,f1,f2) for f1 in categorical_features] for f2 in numerical_features]\n",
    "    )\n",
    ")\n",
    "\n",
    "plt.figure(figsize=(5,4),dpi=100)\n",
    "sns.heatmap(data=pd.DataFrame(data=cat_num_corr_values,index=categorical_features),\n",
    "            cmap='viridis',\n",
    "            linecolor='white',\n",
    "            linewidth=1,\n",
    "            annot=True,\n",
    "            vmin=0,\n",
    "            vmax=1\n",
    "           );"
   ]
  },
  {
   "cell_type": "markdown",
   "id": "2f25d275-41d0-44ba-9702-899b06ad773b",
   "metadata": {},
   "source": [
    "**kde plot example**"
   ]
  },
  {
   "cell_type": "code",
   "execution_count": null,
   "id": "48adfaf1-c5f4-4f82-98f6-8c7c61e823ca",
   "metadata": {
    "tags": []
   },
   "outputs": [],
   "source": [
    "sns.kdeplot(data=df, x='bill_length_mm', hue='species', fill= True);"
   ]
  },
  {
   "cell_type": "markdown",
   "id": "37702079-8eb3-4942-a7b1-52e1994ee24b",
   "metadata": {},
   "source": [
    "**anova p test**"
   ]
  },
  {
   "cell_type": "code",
   "execution_count": null,
   "id": "60791ed9-f9d1-46e1-a5a5-2bc1cd61abdb",
   "metadata": {
    "tags": []
   },
   "outputs": [],
   "source": [
    "def anova_pvalue(df_,cat_col,num_col):\n",
    "    \"\"\"\n",
    "    This function spits out the anova p-value (probability of no correlation) \n",
    "    between a categorical column and a numerical column of a dataframe\n",
    "    \"\"\"\n",
    "    category_group_lists = df_.groupby(cat_col)[num_col].apply(list)\n",
    "    anova_results = stats.f_oneway(*category_group_lists)\n",
    "    p_value = round(anova_results[1],3)\n",
    "    return p_value"
   ]
  },
  {
   "cell_type": "code",
   "execution_count": null,
   "id": "3b04ced6-9cc5-4636-ad40-1445553a6434",
   "metadata": {
    "tags": []
   },
   "outputs": [],
   "source": [
    "anova_pvalue(df,'sex','body_mass_g')"
   ]
  },
  {
   "cell_type": "code",
   "execution_count": null,
   "id": "0e0368af-2f65-493c-b57c-9fd83e7ed109",
   "metadata": {},
   "outputs": [],
   "source": []
  }
 ],
 "metadata": {
  "kernelspec": {
   "display_name": "Python 3 (ipykernel)",
   "language": "python",
   "name": "python3"
  },
  "language_info": {
   "codemirror_mode": {
    "name": "ipython",
    "version": 3
   },
   "file_extension": ".py",
   "mimetype": "text/x-python",
   "name": "python",
   "nbconvert_exporter": "python",
   "pygments_lexer": "ipython3",
   "version": "3.11.3"
  }
 },
 "nbformat": 4,
 "nbformat_minor": 5
}
