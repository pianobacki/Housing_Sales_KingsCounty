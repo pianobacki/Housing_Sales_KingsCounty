{
 "cells": [
  {
   "cell_type": "markdown",
   "metadata": {},
   "source": [
    "# Hypothesis Testing\n",
    "<hr style=\"border:2px solid black\">"
   ]
  },
  {
   "cell_type": "markdown",
   "metadata": {},
   "source": [
    "## 1. Introduction"
   ]
  },
  {
   "cell_type": "markdown",
   "metadata": {},
   "source": [
    "---"
   ]
  },
  {
   "cell_type": "markdown",
   "metadata": {},
   "source": [
    "**what is hypothesis testing?**\n",
    "- statistical analysis that uses sample data to assess two mutually exclusive theories about population\n",
    "- computes sample statistic, and factors in estimates of sampling error to support one of the theories"
   ]
  },
  {
   "cell_type": "markdown",
   "metadata": {},
   "source": [
    "---"
   ]
  },
  {
   "cell_type": "markdown",
   "metadata": {},
   "source": [
    "**null hypothesis $H_0$**\n",
    "\n",
    "- one of the two mutually exclusive theories in hypothesis testing\n",
    "- typically, it states that there is no effect"
   ]
  },
  {
   "cell_type": "markdown",
   "metadata": {},
   "source": [
    "---"
   ]
  },
  {
   "cell_type": "markdown",
   "metadata": {},
   "source": [
    "**alternative hypothesis $H_1$**\n",
    "\n",
    "- complementary theory to null hypothesis\n",
    "- typically, it states that population parameter does not equal to null hypothesis value"
   ]
  },
  {
   "cell_type": "markdown",
   "metadata": {},
   "source": [
    "---"
   ]
  },
  {
   "cell_type": "markdown",
   "metadata": {},
   "source": [
    "**level of significance**\n",
    "\n",
    "- probability of rejecting $H_0$ when it is true \n",
    "- typical values: $\\alpha=0.05$ (95% confidence level)$~\\text{or}~$$\\alpha=0.01$ (99% confidence level)"
   ]
  },
  {
   "cell_type": "markdown",
   "metadata": {},
   "source": [
    "---"
   ]
  },
  {
   "cell_type": "markdown",
   "metadata": {},
   "source": [
    "**p-value**\n",
    "\n",
    "- metric in test of hypothesis\n",
    "- probability of obtaining test results at least as extreme as the result actually observed\n",
    "- calculated from distribution function of test statistic\n",
    "- small $p$-value is significant: $H_0$ is unlikely or untenable\n",
    "- not-so-small $p$-value is insignificant: $H_0$ cannot be rejected"
   ]
  },
  {
   "cell_type": "markdown",
   "metadata": {},
   "source": [
    "---"
   ]
  },
  {
   "cell_type": "markdown",
   "metadata": {},
   "source": [
    "**guidelines for using p-value**\n",
    "\n",
    ">|       p-value      |evidence against null hypothesis|\n",
    " |:------------------:|:------------------------------:|\n",
    " |     $$p>0.10$$     |       weak or no evidence      |\n",
    " | $$0.05<p\\leq0.10$$ |        moderate evidence       |\n",
    " | $$0.01<p\\leq0.05$$ |         strong evidence        |\n",
    " |    $$p\\leq0.01$$   |       very strong evidence     |\n"
   ]
  },
  {
   "cell_type": "markdown",
   "metadata": {},
   "source": [
    "---"
   ]
  },
  {
   "cell_type": "markdown",
   "metadata": {},
   "source": [
    "**two-tailed & one-tailed tests**\n",
    "\n",
    "- two-tailed\n",
    "    + deviation from $H_0$ in either direction is unfavorable\n",
    "    + example: testing if males in two ethnic groups have the same average height\n",
    "- one-tailed\n",
    "    + deviation in only direction is unfavorable to $H_0$\n",
    "    + example: testing the efficacy of a drug"
   ]
  },
  {
   "cell_type": "markdown",
   "metadata": {},
   "source": [
    "---"
   ]
  },
  {
   "cell_type": "markdown",
   "metadata": {},
   "source": [
    "**test types based on distribution of test statistic**\n",
    "\n",
    "- $z$-test:\n",
    "    + can be used in testing hypotheses regarding means, correlation coefficients etc.\n",
    "    + applicable when population variance is known or sample size is large (>=30)\n",
    "- $t$-test\n",
    "    + can be used in testing hypotheses regarding means, correlation coefficients etc.\n",
    "    + applicable when population variance is unknown or sample size is small (<30)\n",
    "- $\\chi²$-test\n",
    "    + can be used in testing hypotheses regarding the nature of one or more distributions\n",
    "- $F$-test\n",
    "    + can be used in testing hypotheses regarding equality of variance in two population \n",
    "    + useful in testing hypotheses regarding means, proportions and correlation coefficients"
   ]
  },
  {
   "cell_type": "markdown",
   "metadata": {},
   "source": [
    "---"
   ]
  },
  {
   "cell_type": "markdown",
   "metadata": {},
   "source": [
    "**load packages**"
   ]
  },
  {
   "cell_type": "code",
   "execution_count": 1,
   "metadata": {},
   "outputs": [],
   "source": [
    "# data analysis stack\n",
    "import numpy as np\n",
    "import pandas as pd\n",
    "\n",
    "# statistics stack\n",
    "from scipy import stats\n",
    "\n",
    "# miscellaneous\n",
    "import warnings\n",
    "warnings.simplefilter('ignore')"
   ]
  },
  {
   "cell_type": "markdown",
   "metadata": {},
   "source": [
    "**load data**"
   ]
  },
  {
   "cell_type": "code",
   "execution_count": 2,
   "metadata": {
    "tags": []
   },
   "outputs": [],
   "source": [
    "df = sns.load_dataset('penguins')\n",
    "df.dropna(inplace=True, ignore_index=True)"
   ]
  },
  {
   "cell_type": "code",
   "execution_count": 3,
   "metadata": {
    "tags": []
   },
   "outputs": [
    {
     "data": {
      "text/html": [
       "<div>\n",
       "<style scoped>\n",
       "    .dataframe tbody tr th:only-of-type {\n",
       "        vertical-align: middle;\n",
       "    }\n",
       "\n",
       "    .dataframe tbody tr th {\n",
       "        vertical-align: top;\n",
       "    }\n",
       "\n",
       "    .dataframe thead th {\n",
       "        text-align: right;\n",
       "    }\n",
       "</style>\n",
       "<table border=\"1\" class=\"dataframe\">\n",
       "  <thead>\n",
       "    <tr style=\"text-align: right;\">\n",
       "      <th></th>\n",
       "      <th>species</th>\n",
       "      <th>island</th>\n",
       "      <th>bill_length_mm</th>\n",
       "      <th>bill_depth_mm</th>\n",
       "      <th>flipper_length_mm</th>\n",
       "      <th>body_mass_g</th>\n",
       "      <th>sex</th>\n",
       "    </tr>\n",
       "  </thead>\n",
       "  <tbody>\n",
       "    <tr>\n",
       "      <th>0</th>\n",
       "      <td>Adelie</td>\n",
       "      <td>Torgersen</td>\n",
       "      <td>39.1</td>\n",
       "      <td>18.7</td>\n",
       "      <td>181.0</td>\n",
       "      <td>3750.0</td>\n",
       "      <td>Male</td>\n",
       "    </tr>\n",
       "    <tr>\n",
       "      <th>1</th>\n",
       "      <td>Adelie</td>\n",
       "      <td>Torgersen</td>\n",
       "      <td>39.5</td>\n",
       "      <td>17.4</td>\n",
       "      <td>186.0</td>\n",
       "      <td>3800.0</td>\n",
       "      <td>Female</td>\n",
       "    </tr>\n",
       "    <tr>\n",
       "      <th>2</th>\n",
       "      <td>Adelie</td>\n",
       "      <td>Torgersen</td>\n",
       "      <td>40.3</td>\n",
       "      <td>18.0</td>\n",
       "      <td>195.0</td>\n",
       "      <td>3250.0</td>\n",
       "      <td>Female</td>\n",
       "    </tr>\n",
       "    <tr>\n",
       "      <th>3</th>\n",
       "      <td>Adelie</td>\n",
       "      <td>Torgersen</td>\n",
       "      <td>36.7</td>\n",
       "      <td>19.3</td>\n",
       "      <td>193.0</td>\n",
       "      <td>3450.0</td>\n",
       "      <td>Female</td>\n",
       "    </tr>\n",
       "    <tr>\n",
       "      <th>4</th>\n",
       "      <td>Adelie</td>\n",
       "      <td>Torgersen</td>\n",
       "      <td>39.3</td>\n",
       "      <td>20.6</td>\n",
       "      <td>190.0</td>\n",
       "      <td>3650.0</td>\n",
       "      <td>Male</td>\n",
       "    </tr>\n",
       "  </tbody>\n",
       "</table>\n",
       "</div>"
      ],
      "text/plain": [
       "  species     island  bill_length_mm  bill_depth_mm  flipper_length_mm   \n",
       "0  Adelie  Torgersen            39.1           18.7              181.0  \\\n",
       "1  Adelie  Torgersen            39.5           17.4              186.0   \n",
       "2  Adelie  Torgersen            40.3           18.0              195.0   \n",
       "3  Adelie  Torgersen            36.7           19.3              193.0   \n",
       "4  Adelie  Torgersen            39.3           20.6              190.0   \n",
       "\n",
       "   body_mass_g     sex  \n",
       "0       3750.0    Male  \n",
       "1       3800.0  Female  \n",
       "2       3250.0  Female  \n",
       "3       3450.0  Female  \n",
       "4       3650.0    Male  "
      ]
     },
     "execution_count": 3,
     "metadata": {},
     "output_type": "execute_result"
    }
   ],
   "source": [
    "df.head()"
   ]
  },
  {
   "cell_type": "markdown",
   "metadata": {},
   "source": [
    "<hr style=\"border:2px solid black\">"
   ]
  },
  {
   "cell_type": "markdown",
   "metadata": {},
   "source": [
    "## 2. Test about Means"
   ]
  },
  {
   "cell_type": "markdown",
   "metadata": {
    "tags": []
   },
   "source": [
    "### 2.1 Comparison of Sample Mean with Population Mean"
   ]
  },
  {
   "cell_type": "markdown",
   "metadata": {},
   "source": [
    "#### Example\n",
    ">$\\bf{H_0}~$: Chinstrap penguins' body_mass_g mean $=$ 3700.0\n",
    ">\n",
    ">$\\bf{H_1}~$: Chinstrap penguins' body_mass_g mean $\\neq$ 3700.0"
   ]
  },
  {
   "cell_type": "code",
   "execution_count": 4,
   "metadata": {
    "tags": []
   },
   "outputs": [],
   "source": [
    "species_groups = df.groupby('species')"
   ]
  },
  {
   "cell_type": "markdown",
   "metadata": {},
   "source": [
    "**calculate the test statistic**"
   ]
  },
  {
   "cell_type": "code",
   "execution_count": 5,
   "metadata": {
    "tags": []
   },
   "outputs": [
    {
     "data": {
      "text/plain": [
       "(68, 7)"
      ]
     },
     "execution_count": 5,
     "metadata": {},
     "output_type": "execute_result"
    }
   ],
   "source": [
    "df[df.species=='Chinstrap'].shape"
   ]
  },
  {
   "cell_type": "code",
   "execution_count": 6,
   "metadata": {
    "tags": []
   },
   "outputs": [
    {
     "data": {
      "text/plain": [
       "3733.0882352941176"
      ]
     },
     "execution_count": 6,
     "metadata": {},
     "output_type": "execute_result"
    }
   ],
   "source": [
    "df[df.species=='Chinstrap']['body_mass_g'].mean()"
   ]
  },
  {
   "cell_type": "code",
   "execution_count": 7,
   "metadata": {
    "tags": []
   },
   "outputs": [],
   "source": [
    "t_stat, p_value = stats.ttest_1samp(\n",
    "    a=df[df.species=='Chinstrap']['body_mass_g'],\n",
    "    popmean=3700.0,\n",
    "    alternative='two-sided'\n",
    ")"
   ]
  },
  {
   "cell_type": "markdown",
   "metadata": {},
   "source": [
    ">test statistic: $~~~t~=~\\frac{\\bar{x}-\\mu}{s}$"
   ]
  },
  {
   "cell_type": "code",
   "execution_count": 8,
   "metadata": {
    "tags": []
   },
   "outputs": [
    {
     "data": {
      "text/plain": [
       "0.7099340949596884"
      ]
     },
     "execution_count": 8,
     "metadata": {},
     "output_type": "execute_result"
    }
   ],
   "source": [
    "t_stat"
   ]
  },
  {
   "cell_type": "code",
   "execution_count": 9,
   "metadata": {
    "tags": []
   },
   "outputs": [
    {
     "data": {
      "text/plain": [
       "0.4802086432837619"
      ]
     },
     "execution_count": 9,
     "metadata": {},
     "output_type": "execute_result"
    }
   ],
   "source": [
    "p_value"
   ]
  },
  {
   "cell_type": "markdown",
   "metadata": {},
   "source": [
    "**conclusion**\n",
    ">the null hypothesis cannot be rejected"
   ]
  },
  {
   "cell_type": "markdown",
   "metadata": {},
   "source": [
    "### 2.2 Comparison of Two Correlated Sample Means"
   ]
  },
  {
   "cell_type": "markdown",
   "metadata": {},
   "source": [
    ">test statistic: $~~~t~=~\\frac{\\bar{x}_1\\,-\\,\\bar{x}_2}{\\sqrt{(s_1²/n_1)\\,+\\,(s_2²/n_2)}}$"
   ]
  },
  {
   "cell_type": "markdown",
   "metadata": {},
   "source": [
    "### 2.3 Comparison of Two Independent Sample Means"
   ]
  },
  {
   "cell_type": "markdown",
   "metadata": {},
   "source": [
    "**function: [`scipy.stats.ttest_ind`](https://docs.scipy.org/doc/scipy/reference/generated/scipy.stats.ttest_ind.html#scipy.stats.ttest_ind)**"
   ]
  },
  {
   "cell_type": "markdown",
   "metadata": {},
   "source": [
    "#### Example\n",
    ">$\\bf{H_0}~$: Adelie and Chinstrap penguins have same body_mass_g mean \n",
    ">\n",
    ">$\\bf{H_1}~$: Adelie and Chinstrap penguins have different body_mass_g mean"
   ]
  },
  {
   "cell_type": "code",
   "execution_count": 10,
   "metadata": {
    "tags": []
   },
   "outputs": [],
   "source": [
    "specieswise_body_mass = {\n",
    "    species: sub_df.body_mass_g for species, sub_df in species_groups\n",
    "}"
   ]
  },
  {
   "cell_type": "markdown",
   "metadata": {},
   "source": [
    "**Adelie vs Chinstrap body mass**"
   ]
  },
  {
   "cell_type": "code",
   "execution_count": 11,
   "metadata": {
    "tags": []
   },
   "outputs": [],
   "source": [
    "t_stat, p_value = stats.ttest_ind(\n",
    "    list(specieswise_body_mass['Adelie']),\n",
    "    list(specieswise_body_mass['Chinstrap'])\n",
    ")"
   ]
  },
  {
   "cell_type": "code",
   "execution_count": 12,
   "metadata": {
    "tags": []
   },
   "outputs": [
    {
     "data": {
      "text/plain": [
       "0.6748289682757558"
      ]
     },
     "execution_count": 12,
     "metadata": {},
     "output_type": "execute_result"
    }
   ],
   "source": [
    "p_value"
   ]
  },
  {
   "cell_type": "markdown",
   "metadata": {},
   "source": [
    "**conclusion**\n",
    "- the null hypothesis cannot be rejected"
   ]
  },
  {
   "cell_type": "markdown",
   "metadata": {},
   "source": [
    "**Adelie vs Gentoo body mass**"
   ]
  },
  {
   "cell_type": "code",
   "execution_count": null,
   "metadata": {
    "tags": []
   },
   "outputs": [],
   "source": [
    "t_stat, p_value = stats.ttest_ind(\n",
    "    list(specieswise_body_mass['Adelie']),\n",
    "    list(specieswise_body_mass['Gentoo'])\n",
    ")"
   ]
  },
  {
   "cell_type": "code",
   "execution_count": null,
   "metadata": {
    "tags": []
   },
   "outputs": [],
   "source": [
    "p_value"
   ]
  },
  {
   "cell_type": "markdown",
   "metadata": {},
   "source": [
    "**conclusion**\n",
    "- very strong evidence against the null hypothesis"
   ]
  },
  {
   "cell_type": "markdown",
   "metadata": {},
   "source": [
    "<hr style=\"border:2px solid black\">"
   ]
  },
  {
   "cell_type": "markdown",
   "metadata": {},
   "source": [
    "## 3. Test about Variances"
   ]
  },
  {
   "cell_type": "markdown",
   "metadata": {},
   "source": [
    "### 3.1 Comparison of Sample Variance with Population Variance"
   ]
  },
  {
   "cell_type": "markdown",
   "metadata": {},
   "source": [
    ">test statistic: $\\chi² = (\\text{sample size}-1)\\times\\left(\\frac{\\text{sample variance}}{\\text{population variance}}\\right)$ "
   ]
  },
  {
   "cell_type": "markdown",
   "metadata": {},
   "source": [
    "**$\\chi²$ test: [`scipy.stats.chi2`](https://docs.scipy.org/doc/scipy-0.14.0/reference/generated/scipy.stats.chi2.html)**"
   ]
  },
  {
   "cell_type": "markdown",
   "metadata": {},
   "source": [
    "#### Example\n",
    ">$\\bf{H_0}~$: Adelie penguins' bill_length_mm variance $=$ 10.0\n",
    ">\n",
    ">$\\bf{H_1}~$: Adelie penguins' bill_length_mm variance $\\neq$ 10.0"
   ]
  },
  {
   "cell_type": "markdown",
   "metadata": {},
   "source": [
    "**sample**"
   ]
  },
  {
   "cell_type": "code",
   "execution_count": 13,
   "metadata": {
    "tags": []
   },
   "outputs": [],
   "source": [
    "specieswise_bill_length = {\n",
    "    species: sub_df.bill_length_mm for species, sub_df in species_groups\n",
    "}"
   ]
  },
  {
   "cell_type": "code",
   "execution_count": 14,
   "metadata": {
    "tags": []
   },
   "outputs": [],
   "source": [
    "sample = list(specieswise_bill_length['Adelie'])"
   ]
  },
  {
   "cell_type": "code",
   "execution_count": 15,
   "metadata": {
    "tags": []
   },
   "outputs": [
    {
     "data": {
      "text/plain": [
       "146"
      ]
     },
     "execution_count": 15,
     "metadata": {},
     "output_type": "execute_result"
    }
   ],
   "source": [
    "sample_size = len(sample)\n",
    "sample_size"
   ]
  },
  {
   "cell_type": "markdown",
   "metadata": {},
   "source": [
    "**parameter**"
   ]
  },
  {
   "cell_type": "code",
   "execution_count": 16,
   "metadata": {
    "tags": []
   },
   "outputs": [],
   "source": [
    "population_variance = 10.0"
   ]
  },
  {
   "cell_type": "markdown",
   "metadata": {},
   "source": [
    "**statistic**"
   ]
  },
  {
   "cell_type": "code",
   "execution_count": 17,
   "metadata": {
    "tags": []
   },
   "outputs": [
    {
     "data": {
      "text/plain": [
       "102.09252322199288"
      ]
     },
     "execution_count": 17,
     "metadata": {},
     "output_type": "execute_result"
    }
   ],
   "source": [
    "chi2_stat = (sample_size - 1)*(np.var(sample)/population_variance)\n",
    "chi2_stat"
   ]
  },
  {
   "cell_type": "markdown",
   "metadata": {},
   "source": [
    "**degrees of freedom**"
   ]
  },
  {
   "cell_type": "code",
   "execution_count": 18,
   "metadata": {
    "tags": []
   },
   "outputs": [],
   "source": [
    "dof = sample_size - 1"
   ]
  },
  {
   "cell_type": "markdown",
   "metadata": {},
   "source": [
    "**level of significance**"
   ]
  },
  {
   "cell_type": "code",
   "execution_count": 19,
   "metadata": {
    "tags": []
   },
   "outputs": [],
   "source": [
    "alpha = 0.05"
   ]
  },
  {
   "cell_type": "markdown",
   "metadata": {},
   "source": [
    "**lower critical value**"
   ]
  },
  {
   "cell_type": "code",
   "execution_count": 20,
   "metadata": {
    "tags": []
   },
   "outputs": [
    {
     "data": {
      "text/plain": [
       "113.55571355377477"
      ]
     },
     "execution_count": 20,
     "metadata": {},
     "output_type": "execute_result"
    }
   ],
   "source": [
    "chi2_critical_lower = stats.chi2.ppf(alpha/2, dof)\n",
    "chi2_critical_lower"
   ]
  },
  {
   "cell_type": "markdown",
   "metadata": {},
   "source": [
    "**upper crititical valie**"
   ]
  },
  {
   "cell_type": "code",
   "execution_count": 21,
   "metadata": {
    "tags": []
   },
   "outputs": [
    {
     "data": {
      "text/plain": [
       "180.22912239204106"
      ]
     },
     "execution_count": 21,
     "metadata": {},
     "output_type": "execute_result"
    }
   ],
   "source": [
    "chi2_critical_upper = stats.chi2.ppf(1-(alpha/2), dof)\n",
    "chi2_critical_upper"
   ]
  },
  {
   "cell_type": "markdown",
   "metadata": {},
   "source": [
    "**conclusion**\n",
    ">data does not support the null hypothesis"
   ]
  },
  {
   "cell_type": "markdown",
   "metadata": {},
   "source": [
    "#### User Defined Function"
   ]
  },
  {
   "cell_type": "code",
   "execution_count": 22,
   "metadata": {
    "tags": []
   },
   "outputs": [],
   "source": [
    "def variance_test(a, popvar, alternative=\"two-tailed\", alpha=0.05):\n",
    "    \"\"\"\n",
    "    chi_squared test comparing sample variance with population variance\n",
    "    \"\"\"\n",
    "    n = len(a)\n",
    "    chi2_stat = (n - 1) * np.var(a) / popvar \n",
    "    \n",
    "    if alternative == \"lower\":\n",
    "        chi2_critical = stats.chi2.ppf(alpha, n-1)\n",
    "        if chi2_stat <= chi2_critical:\n",
    "            return \"H_0 is untenable\"\n",
    "        else:\n",
    "            return \"H_0 cannot be rejected\"\n",
    "    \n",
    "    elif alternative == \"upper\":\n",
    "        chi2_critical = stats.chi2.ppf(1-alpha, n-1)\n",
    "        if chi2_stat >= chi2_critical:\n",
    "            return \"H_0 is untenable\"\n",
    "        else:\n",
    "            return \"H_0 cannot be rejected\"\n",
    "    \n",
    "    else:\n",
    "        chi2_critical_lower = stats.chi2.ppf(alpha/2, n-1)\n",
    "        chi2_critical_upper = stats.chi2.ppf(1-(alpha/2), n-1)\n",
    "        if (chi2_stat <= chi2_critical_lower) or (chi2_stat >= chi2_critical_upper):\n",
    "            return \"H_0 is untenable\"\n",
    "        else:\n",
    "            return \"H_0 cannot be rejected\""
   ]
  },
  {
   "cell_type": "code",
   "execution_count": 23,
   "metadata": {
    "tags": []
   },
   "outputs": [
    {
     "data": {
      "text/plain": [
       "'H_0 is untenable'"
      ]
     },
     "execution_count": 23,
     "metadata": {},
     "output_type": "execute_result"
    }
   ],
   "source": [
    "variance_test(\n",
    "    a=specieswise_bill_length['Adelie'],\n",
    "    popvar=25.0\n",
    ")"
   ]
  },
  {
   "cell_type": "markdown",
   "metadata": {},
   "source": [
    "### 3.2 Comparison of Sample Variances"
   ]
  },
  {
   "cell_type": "markdown",
   "metadata": {},
   "source": [
    "- **Bartlett Test:[`scipy.stats.bartlett`](https://docs.scipy.org/doc/scipy/reference/generated/scipy.stats.bartlett.html#scipy.stats.bartlett)**\n",
    ">$\\chi²$-test assuming normal distribution\n",
    "\n",
    "- **Levene Test: [`scipy.stats.levene`](https://docs.scipy.org/doc/scipy/reference/generated/scipy.stats.levene.html)**\n",
    ">$F$-test for non-normal distribution"
   ]
  },
  {
   "cell_type": "markdown",
   "metadata": {
    "tags": []
   },
   "source": [
    "#### Example\n",
    ">$\\bf{H_0}~$: all penguin species have the same variance of flipper length\n",
    ">\n",
    ">$\\bf{H_1}~$: at least two penguin species have different variance of flipper length"
   ]
  },
  {
   "cell_type": "code",
   "execution_count": 24,
   "metadata": {
    "tags": []
   },
   "outputs": [],
   "source": [
    "specieswise_flipper_length = {\n",
    "    species: sub_df.flipper_length_mm for species, sub_df in species_groups\n",
    "}"
   ]
  },
  {
   "cell_type": "code",
   "execution_count": 25,
   "metadata": {
    "tags": []
   },
   "outputs": [],
   "source": [
    "W_stat, p_value = stats.levene(\n",
    "    *specieswise_flipper_length.values(),\n",
    "    center='median'\n",
    ")"
   ]
  },
  {
   "cell_type": "code",
   "execution_count": 26,
   "metadata": {
    "tags": []
   },
   "outputs": [
    {
     "data": {
      "text/plain": [
       "0.6426253107522957"
      ]
     },
     "execution_count": 26,
     "metadata": {},
     "output_type": "execute_result"
    }
   ],
   "source": [
    "p_value"
   ]
  },
  {
   "cell_type": "markdown",
   "metadata": {
    "jp-MarkdownHeadingCollapsed": true,
    "tags": []
   },
   "source": [
    "**conclusion**\n",
    ">no evidence against the null hypothesis"
   ]
  },
  {
   "cell_type": "markdown",
   "metadata": {},
   "source": [
    "<hr style=\"border:2px solid black\">"
   ]
  },
  {
   "cell_type": "markdown",
   "metadata": {},
   "source": [
    "## 4. Independence of Categorical Variables"
   ]
  },
  {
   "cell_type": "markdown",
   "metadata": {
    "tags": []
   },
   "source": [
    "#### function: [`scipy.stats.chi2_contingency`](https://docs.scipy.org/doc/scipy/reference/generated/scipy.stats.chi2_contingency.html)"
   ]
  },
  {
   "cell_type": "markdown",
   "metadata": {},
   "source": [
    "#### Example\n",
    ">$\\bf{H_0}~$: penguin species and island variables are independent\n",
    ">\n",
    ">$\\bf{H_1}~$: penguin species and island variables are not independent"
   ]
  },
  {
   "cell_type": "code",
   "execution_count": 27,
   "metadata": {
    "tags": []
   },
   "outputs": [
    {
     "data": {
      "text/html": [
       "<div>\n",
       "<style scoped>\n",
       "    .dataframe tbody tr th:only-of-type {\n",
       "        vertical-align: middle;\n",
       "    }\n",
       "\n",
       "    .dataframe tbody tr th {\n",
       "        vertical-align: top;\n",
       "    }\n",
       "\n",
       "    .dataframe thead th {\n",
       "        text-align: right;\n",
       "    }\n",
       "</style>\n",
       "<table border=\"1\" class=\"dataframe\">\n",
       "  <thead>\n",
       "    <tr style=\"text-align: right;\">\n",
       "      <th>island</th>\n",
       "      <th>Biscoe</th>\n",
       "      <th>Dream</th>\n",
       "      <th>Torgersen</th>\n",
       "    </tr>\n",
       "    <tr>\n",
       "      <th>species</th>\n",
       "      <th></th>\n",
       "      <th></th>\n",
       "      <th></th>\n",
       "    </tr>\n",
       "  </thead>\n",
       "  <tbody>\n",
       "    <tr>\n",
       "      <th>Adelie</th>\n",
       "      <td>44</td>\n",
       "      <td>55</td>\n",
       "      <td>47</td>\n",
       "    </tr>\n",
       "    <tr>\n",
       "      <th>Chinstrap</th>\n",
       "      <td>0</td>\n",
       "      <td>68</td>\n",
       "      <td>0</td>\n",
       "    </tr>\n",
       "    <tr>\n",
       "      <th>Gentoo</th>\n",
       "      <td>119</td>\n",
       "      <td>0</td>\n",
       "      <td>0</td>\n",
       "    </tr>\n",
       "  </tbody>\n",
       "</table>\n",
       "</div>"
      ],
      "text/plain": [
       "island     Biscoe  Dream  Torgersen\n",
       "species                            \n",
       "Adelie         44     55         47\n",
       "Chinstrap       0     68          0\n",
       "Gentoo        119      0          0"
      ]
     },
     "execution_count": 27,
     "metadata": {},
     "output_type": "execute_result"
    }
   ],
   "source": [
    "contingency_table = pd.crosstab(df.species, df.island)\n",
    "contingency_table"
   ]
  },
  {
   "cell_type": "code",
   "execution_count": 28,
   "metadata": {
    "tags": []
   },
   "outputs": [],
   "source": [
    "statistic, pvalue, dof, expected_freq = stats.chi2_contingency(\n",
    "    observed=contingency_table,\n",
    "    correction=True\n",
    ")"
   ]
  },
  {
   "cell_type": "code",
   "execution_count": 29,
   "metadata": {
    "tags": []
   },
   "outputs": [
    {
     "name": "stdout",
     "output_type": "stream",
     "text": [
      "\n",
      "statistic: 284.5900126880923\n",
      "pvalue: 2.2818915409873682e-60,\n",
      "dof: 4,\n",
      "expected_freq: \n",
      "           0          1          2\n",
      "0  71.465465  53.927928  20.606607\n",
      "1  33.285285  25.117117   9.597598\n",
      "2  58.249249  43.954955  16.795796\n",
      "\n"
     ]
    }
   ],
   "source": [
    "print(f\"\"\"\n",
    "statistic: {statistic}\n",
    "pvalue: {pvalue},\n",
    "dof: {dof},\n",
    "expected_freq: \n",
    "{pd.DataFrame(expected_freq)}\n",
    "\"\"\")"
   ]
  },
  {
   "cell_type": "markdown",
   "metadata": {},
   "source": [
    "**conclusion**\n",
    "- data does not support the null hypothesis"
   ]
  },
  {
   "cell_type": "markdown",
   "metadata": {
    "tags": []
   },
   "source": [
    "<hr style=\"border:2px solid black\">"
   ]
  }
 ],
 "metadata": {
  "kernelspec": {
   "display_name": "Python 3 (ipykernel)",
   "language": "python",
   "name": "python3"
  },
  "language_info": {
   "codemirror_mode": {
    "name": "ipython",
    "version": 3
   },
   "file_extension": ".py",
   "mimetype": "text/x-python",
   "name": "python",
   "nbconvert_exporter": "python",
   "pygments_lexer": "ipython3",
   "version": "3.11.3"
  }
 },
 "nbformat": 4,
 "nbformat_minor": 4
}
