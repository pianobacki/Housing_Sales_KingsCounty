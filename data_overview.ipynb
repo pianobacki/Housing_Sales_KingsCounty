{
 "cells": [
  {
   "cell_type": "code",
   "execution_count": 2,
   "metadata": {},
   "outputs": [
    {
     "ename": "ModuleNotFoundError",
     "evalue": "No module named 'pandas'",
     "output_type": "error",
     "traceback": [
      "\u001b[0;31m---------------------------------------------------------------------------\u001b[0m",
      "\u001b[0;31mModuleNotFoundError\u001b[0m                       Traceback (most recent call last)",
      "Cell \u001b[0;32mIn[2], line 1\u001b[0m\n\u001b[0;32m----> 1\u001b[0m \u001b[38;5;28;01mimport\u001b[39;00m \u001b[38;5;21;01mpandas\u001b[39;00m \u001b[38;5;28;01mas\u001b[39;00m \u001b[38;5;21;01mpd\u001b[39;00m\n",
      "\u001b[0;31mModuleNotFoundError\u001b[0m: No module named 'pandas'"
     ]
    }
   ],
   "source": [
    "import pandas as pd"
   ]
  },
  {
   "cell_type": "code",
   "execution_count": 7,
   "metadata": {},
   "outputs": [],
   "source": [
    "df=pd.read_csv('housing.csv')"
   ]
  },
  {
   "cell_type": "code",
   "execution_count": null,
   "metadata": {},
   "outputs": [],
   "source": [
    "df.head(50)"
   ]
  },
  {
   "cell_type": "markdown",
   "metadata": {},
   "source": [
    "# Some notes about the culumns\n",
    "\n",
    "**id** - unique identified for a house\n",
    "\n",
    "**dateDate** - house was sold\n",
    "\n",
    "**pricePrice** - is prediction target\n",
    "\n",
    "**bedroomsNumber** - # of bedrooms\n",
    "\n",
    "**bathroomsNumber** - # of bathrooms\n",
    "\n",
    "**sqft_livingsquare** - footage of the home\n",
    "\n",
    "**sqft_lotsquare** - footage of the lot\n",
    "\n",
    "**floorsTotal** - floors (levels) in house\n",
    "\n",
    "**waterfront** - House which has a view to a waterfront\n",
    "\n",
    "**view** - Has been viewed\n",
    "\n",
    "**condition** - How good the condition is ( Overall )\n",
    "\n",
    "**grade** - overall grade given to the housing unit, based on King County grading system\n",
    "Classification by construction quality which refers to the types of materials used and the quality of workmanship. Buildings of better quality (higher grade) cost more to build per unit of measure and command higher value. \n",
    "(See Glossary in Area Report for Residential Building Grades in use by the King County Department of Assessments.) \n",
    "\n",
    "**sqft_above** - square footage of house apart from basement\n",
    "\n",
    "**sqft_basement** - square footage of the basement\n",
    "\n",
    "\n",
    "**yr_built** - Built Year\n",
    "\n",
    "**yr_renovated** - Year when house was renovated\n",
    "\n",
    "**zipcode** - zip\n",
    "\n",
    "\n",
    "\n",
    "\n",
    "**lat** - Latitude coordinate\n",
    "\n",
    "**long** - Longitude coordinate\n",
    "\n",
    "\n",
    "**sqft_living15** - The square footage of interior housing living space for the nearest 15 neighbors\n",
    "Die Quadratmeterzahl der Innenwohnfläche für die nächsten 15 Nachbarn\n",
    "\n",
    "- **sqft_lot15** - The square footage of the land lots of the nearest 15 neighbors\n",
    "\n"
   ]
  },
  {
   "cell_type": "markdown",
   "metadata": {},
   "source": [
    "# Hypothesis\n",
    "\n",
    "- H1: The square footage of land is smaller for waterfront houses in Kings County.\n",
    "- H2: Waterfront houses are sold more often on average than non-waterfront houses.\n",
    "- H3: There is a positive correlation between the condition of a house and the King County Building Grades."
   ]
  },
  {
   "cell_type": "markdown",
   "metadata": {},
   "source": [
    "# is this markdown\n",
    "\n",
    "| Variable      | type | change | range                | NaNs | Outlier | insides                                                                       |\n",
    "| :-------------: |: ----: |: ------ :|: -------------------- :|: ---- :|: -------: |: ----------------------------------------------------------------------------- :|\n",
    "| id            | num  |        | 1000102 : 9900000190 | -    |         | is there some logic? <br>there are some cutouts, e.g. 4500000000 : 5000000000 |\n",
    "| bedrooms      | num  |        | 1 : 33               | -    | yes     | most have 3 or 4                                                              |\n",
    "| bathrooms     | num  |        | 0.5 : 8              | -    |         | most have 2.5<br>measured in steps of 0.25                                    |"
   ]
  }
 ],
 "metadata": {
  "kernelspec": {
   "display_name": ".venv",
   "language": "python",
   "name": "python3"
  },
  "language_info": {
   "codemirror_mode": {
    "name": "ipython",
    "version": 3
   },
   "file_extension": ".py",
   "mimetype": "text/x-python",
   "name": "python",
   "nbconvert_exporter": "python",
   "pygments_lexer": "ipython3",
   "version": "3.11.3"
  }
 },
 "nbformat": 4,
 "nbformat_minor": 2
}
